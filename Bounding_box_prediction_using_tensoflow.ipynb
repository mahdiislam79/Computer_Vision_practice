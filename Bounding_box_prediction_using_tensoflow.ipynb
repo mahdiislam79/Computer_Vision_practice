{
  "nbformat": 4,
  "nbformat_minor": 0,
  "metadata": {
    "colab": {
      "provenance": [],
      "include_colab_link": true
    },
    "kernelspec": {
      "name": "python3",
      "display_name": "Python 3"
    },
    "language_info": {
      "name": "python"
    }
  },
  "cells": [
    {
      "cell_type": "markdown",
      "metadata": {
        "id": "view-in-github",
        "colab_type": "text"
      },
      "source": [
        "<a href=\"https://colab.research.google.com/github/mahdiislam79/Computer_Vision_practice/blob/main/Bounding_box_prediction_using_tensoflow.ipynb\" target=\"_parent\"><img src=\"https://colab.research.google.com/assets/colab-badge.svg\" alt=\"Open In Colab\"/></a>"
      ]
    },
    {
      "cell_type": "markdown",
      "source": [
        "This notebook is created to practice the programming assignment for predicting bounding boxes. The dataset used here is [`Caltech Birds - 2010`](https://www.vision.caltech.edu/datasets/cub_200_2011/) dataset. "
      ],
      "metadata": {
        "id": "0Za2xh5bkcUk"
      }
    },
    {
      "cell_type": "markdown",
      "source": [
        "# Setting up data location\n",
        "\n",
        "A copy of the data is provided in a google folder named [TF3 C3 W1 Data](https://drive.google.com/drive/folders/1xgqUw9uWzL5Kh88iPdX1TBQgnkc-wVKd). So we will create a shortcut of that folder in the drive so that we can use it for ourselves."
      ],
      "metadata": {
        "id": "BoYAVrz2k0Qf"
      }
    },
    {
      "cell_type": "markdown",
      "source": [
        "# Mounting the drive"
      ],
      "metadata": {
        "id": "f1hF6RTXmxNm"
      }
    },
    {
      "cell_type": "code",
      "execution_count": 2,
      "metadata": {
        "id": "-HZkP_8GdFvw",
        "outputId": "b5f2b874-cd28-48a2-ac3a-e1b06216acfc",
        "colab": {
          "base_uri": "https://localhost:8080/"
        }
      },
      "outputs": [
        {
          "output_type": "stream",
          "name": "stdout",
          "text": [
            "Mounted at /content/drive\n"
          ]
        }
      ],
      "source": [
        "from google.colab import drive\n",
        "drive.mount('/content/drive', force_remount=True)"
      ]
    },
    {
      "cell_type": "markdown",
      "source": [
        "# Imports"
      ],
      "metadata": {
        "id": "7urflH1fnhWU"
      }
    },
    {
      "cell_type": "code",
      "source": [
        "# If you get a checksum error with the dataset, you'll need this\n",
        "!pip install tfds-nightly==4.0.1.dev202010100107"
      ],
      "metadata": {
        "id": "IQJB70VIkY9c",
        "outputId": "7fd6d5ac-1035-4487-854f-5581d7ade65a",
        "colab": {
          "base_uri": "https://localhost:8080/"
        }
      },
      "execution_count": 3,
      "outputs": [
        {
          "output_type": "stream",
          "name": "stdout",
          "text": [
            "Looking in indexes: https://pypi.org/simple, https://us-python.pkg.dev/colab-wheels/public/simple/\n",
            "Collecting tfds-nightly==4.0.1.dev202010100107\n",
            "  Downloading tfds_nightly-4.0.1.dev202010100107-py3-none-any.whl (3.5 MB)\n",
            "\u001b[2K     \u001b[90m━━━━━━━━━━━━━━━━━━━━━━━━━━━━━━━━━━━━━━━━\u001b[0m \u001b[32m3.5/3.5 MB\u001b[0m \u001b[31m17.7 MB/s\u001b[0m eta \u001b[36m0:00:00\u001b[0m\n",
            "\u001b[?25hRequirement already satisfied: absl-py in /usr/local/lib/python3.9/dist-packages (from tfds-nightly==4.0.1.dev202010100107) (1.4.0)\n",
            "Requirement already satisfied: dm-tree in /usr/local/lib/python3.9/dist-packages (from tfds-nightly==4.0.1.dev202010100107) (0.1.8)\n",
            "Requirement already satisfied: numpy in /usr/local/lib/python3.9/dist-packages (from tfds-nightly==4.0.1.dev202010100107) (1.22.4)\n",
            "Requirement already satisfied: termcolor in /usr/local/lib/python3.9/dist-packages (from tfds-nightly==4.0.1.dev202010100107) (2.2.0)\n",
            "Requirement already satisfied: six in /usr/local/lib/python3.9/dist-packages (from tfds-nightly==4.0.1.dev202010100107) (1.16.0)\n",
            "Requirement already satisfied: protobuf>=3.6.1 in /usr/local/lib/python3.9/dist-packages (from tfds-nightly==4.0.1.dev202010100107) (3.20.3)\n",
            "Requirement already satisfied: tqdm in /usr/local/lib/python3.9/dist-packages (from tfds-nightly==4.0.1.dev202010100107) (4.65.0)\n",
            "Collecting dill\n",
            "  Downloading dill-0.3.6-py3-none-any.whl (110 kB)\n",
            "\u001b[2K     \u001b[90m━━━━━━━━━━━━━━━━━━━━━━━━━━━━━━━━━━━━━━\u001b[0m \u001b[32m110.5/110.5 kB\u001b[0m \u001b[31m13.0 MB/s\u001b[0m eta \u001b[36m0:00:00\u001b[0m\n",
            "\u001b[?25hRequirement already satisfied: requests>=2.19.0 in /usr/local/lib/python3.9/dist-packages (from tfds-nightly==4.0.1.dev202010100107) (2.27.1)\n",
            "Requirement already satisfied: tensorflow-metadata in /usr/local/lib/python3.9/dist-packages (from tfds-nightly==4.0.1.dev202010100107) (1.13.0)\n",
            "Requirement already satisfied: promise in /usr/local/lib/python3.9/dist-packages (from tfds-nightly==4.0.1.dev202010100107) (2.3)\n",
            "Requirement already satisfied: future in /usr/local/lib/python3.9/dist-packages (from tfds-nightly==4.0.1.dev202010100107) (0.18.3)\n",
            "Requirement already satisfied: attrs>=18.1.0 in /usr/local/lib/python3.9/dist-packages (from tfds-nightly==4.0.1.dev202010100107) (22.2.0)\n",
            "Requirement already satisfied: charset-normalizer~=2.0.0 in /usr/local/lib/python3.9/dist-packages (from requests>=2.19.0->tfds-nightly==4.0.1.dev202010100107) (2.0.12)\n",
            "Requirement already satisfied: urllib3<1.27,>=1.21.1 in /usr/local/lib/python3.9/dist-packages (from requests>=2.19.0->tfds-nightly==4.0.1.dev202010100107) (1.26.15)\n",
            "Requirement already satisfied: certifi>=2017.4.17 in /usr/local/lib/python3.9/dist-packages (from requests>=2.19.0->tfds-nightly==4.0.1.dev202010100107) (2022.12.7)\n",
            "Requirement already satisfied: idna<4,>=2.5 in /usr/local/lib/python3.9/dist-packages (from requests>=2.19.0->tfds-nightly==4.0.1.dev202010100107) (3.4)\n",
            "Requirement already satisfied: googleapis-common-protos<2,>=1.52.0 in /usr/local/lib/python3.9/dist-packages (from tensorflow-metadata->tfds-nightly==4.0.1.dev202010100107) (1.59.0)\n",
            "Installing collected packages: dill, tfds-nightly\n",
            "Successfully installed dill-0.3.6 tfds-nightly-4.0.1.dev202010100107\n"
          ]
        }
      ]
    },
    {
      "cell_type": "code",
      "source": [
        "import os,re,time,json\n",
        "import PIL.Image,PIL.ImageFont,PIL.ImageDraw\n",
        "import numpy as np\n",
        "import tensorflow as tf\n",
        "import matplotlib.pyplot as plt\n",
        "import cv2"
      ],
      "metadata": {
        "id": "9rl5-4CsnloO"
      },
      "execution_count": 8,
      "outputs": []
    },
    {
      "cell_type": "code",
      "source": [
        "data_dir =  '/content/drive/MyDrive/caltech_birds2010'"
      ],
      "metadata": {
        "id": "C_h_tC_roEL4"
      },
      "execution_count": 7,
      "outputs": []
    },
    {
      "cell_type": "markdown",
      "source": [
        "# Visualization tools\n",
        "\n",
        "## 1. Bounding Box Utilities\n",
        "\n",
        "These functions will help us create bounding boxes \n",
        "\n",
        "- `draw_bounding_box_on_image`: Draws a single bounding box on an image.\n",
        "- `draw_bounding_boxes_on_image`: Draws multiple bounding boxes on an image.\n",
        "- `draw_bounding_boxes_on_image_array`: Draws multiple bounding boxes on an array of images."
      ],
      "metadata": {
        "id": "P-5xygVOo91f"
      }
    },
    {
      "cell_type": "code",
      "source": [
        "def draw_bounding_box_on_image(image, ymin, xmin, ymax, xmax, color=(255,0,0), thickness=5):\n",
        "\n",
        "  \"\"\"\n",
        "    Adds a bounding box to an image.\n",
        "    Bounding box coordinates can be specified in either absolute (pixel) or\n",
        "    normalized coordinates by setting the use_normalized_coordinates argument.\n",
        "    \n",
        "    Args:\n",
        "      image: a PIL.Image object.\n",
        "      ymin: ymin of bounding box.\n",
        "      xmin: xmin of bounding box.\n",
        "      ymax: ymax of bounding box.\n",
        "      xmax: xmax of bounding box.\n",
        "      color: color to draw bounding box. Default is red.\n",
        "      thickness: line thickness. Default value is 4.\n",
        "  \"\"\"\n",
        "\n",
        "  image_width = image.shape[1]\n",
        "  image_height = image.shape[0]\n",
        "  cv2.rectangle(image, (int(xmin), int(ymin), int(xmax), int(ymax)), color, thickness)\n",
        "\n",
        "def draw_bounding_boxes_on_image(image, boxes, color=[], thickness=5):\n",
        "\n",
        "  \"\"\"\n",
        "    Draws bounding boxes on image.\n",
        "    \n",
        "    Args:\n",
        "      image: a PIL.Image object.\n",
        "      boxes: a 2 dimensional numpy array of [N, 4]: (ymin, xmin, ymax, xmax).\n",
        "             The coordinates are in normalized format between [0, 1].\n",
        "      color: color to draw bounding box. Default is red.\n",
        "      thickness: line thickness. Default value is 4.\n",
        "                           \n",
        "    Raises:\n",
        "      ValueError: if boxes is not a [N, 4] array\n",
        "  \"\"\"\n",
        "\n",
        "  boxes_shape = boxes.shape\n",
        "  if not boxes_shape:\n",
        "    return \n",
        "  if len(boxes_shape) != 2 or boxes_shape[1] != 4:\n",
        "    raise ValueError('Input must be of size [N, 4]')\n",
        "  for i in range(boxes_shape[0]):\n",
        "    draw_bounding_box_on_image(image, boxes[i, 1], boxes[i, 0], boxes[i, 3], \n",
        "                               boxes[i, 2], color[i], thickness)\n",
        "    \n",
        "def draw_bounding_boxes_on_image_array(image, boxes, color=[], thickness=5):\n",
        "  \"\"\"\n",
        "    Draws bounding boxes on image (numpy array).\n",
        "    \n",
        "    Args:\n",
        "      image: a numpy array object.\n",
        "      boxes: a 2 dimensional numpy array of [N, 4]: (ymin, xmin, ymax, xmax).\n",
        "             The coordinates are in normalized format between [0, 1].\n",
        "      color: color to draw bounding box. Default is red.\n",
        "      thickness: line thickness. Default value is 4.\n",
        "      display_str_list_list: a list of strings for each bounding box.\n",
        "    \n",
        "    Raises:\n",
        "      ValueError: if boxes is not a [N, 4] array\n",
        "  \"\"\"\n",
        "\n",
        "  draw_bounding_boxes_on_image(image, boxes, color, thickness)\n",
        "\n",
        "  return image"
      ],
      "metadata": {
        "id": "uj4cobe-o08i"
      },
      "execution_count": 9,
      "outputs": []
    },
    {
      "cell_type": "markdown",
      "source": [
        "# Data and Predictions Utilities\n",
        "\n",
        "The below helper functions and code are used to visualize tha data and the model's predictions.\n",
        "\n",
        "- `display_digits_with_boxes`: This displays a row of \"digit\" images along with the model's predictions for each image.\n",
        "- `plot_metrics`: This plots a given metric (like loss) as it changes over multiple epochs of training."
      ],
      "metadata": {
        "id": "wHE4Da4XtPVx"
      }
    },
    {
      "cell_type": "code",
      "source": [
        "# Matplotlib config \n",
        "plt.rc('image', cmap='grey')\n",
        "plt.rc('grid', linewidth=0)\n",
        "plt.rc('xtick', top=False, bottom=False, labelsize='large')\n",
        "plt.rc('ytick', left=False, right=False, labelsize='large')\n",
        "plt.rc('axes', facecolor='F8F8F8', titlesize='large', edgecolor='white')\n",
        "plt.rc('text', color='a8151a')\n",
        "plt.rc('figure', facecolor='F0F0F0') # Matplotlib fonts\n",
        "MATPLOTLIB_FONT_DIR = os.path.join(os.path.dirname(plt.__file__), \"mpl-data/fonts/ttf\")"
      ],
      "metadata": {
        "id": "B5z2oe7ZtMjK"
      },
      "execution_count": 10,
      "outputs": []
    },
    {
      "cell_type": "code",
      "source": [
        "# utility to display a row of digits with their predictions\n",
        "def display_digits_with_boxes(images, pred_bboxes, bboxes, iou, title, bboxes_normalized=False):\n",
        "\n",
        "  n = len(images)\n",
        "\n",
        "  fig = plt.figure(figsize=(20,4))\n",
        "  plt.title(title)\n",
        "  plt.yticks([])\n",
        "  plt.xticks([])\n",
        "\n",
        "  for i in range(n):\n",
        "    ax = fig.add_subplot(1, 10, i+1)\n",
        "    bboxes_to_plot = []\n",
        "    if (len(pred_bboxes) > 1):\n",
        "      bbox = pred_bboxes[i]\n",
        "      bbox = [bbox[0] * images[i].shape[1], bbox[1] * images[i].shape[0], \n",
        "              bbox[2] * images[i].shape[1], bbox[3] * images[i].shape[0]], bboxes_to_plot.append(bbox)\n",
        "\n",
        "    if (len(bboxes) > i):\n",
        "        bbox = bboxes[i]\n",
        "        if bboxes_normalized == True:\n",
        "          bbox = [bbox[0] * images[i].shape[1],bbox[1] * images[i].shape[0], \n",
        "                  bbox[2] * images[i].shape[1], bbox[3] * images[i].shape[0] ]\n",
        "        bboxes_to_plot.append(bbox)\n",
        "\n",
        "    img_to_draw = draw_bounding_boxes_on_image_array(image=images[i], boxes=np.asarray(bboxes_to_plot), color=[(255,0,0), (0, 255, 0)])\n",
        "    plt.xticks([])\n",
        "    plt.yticks([])\n",
        "    \n",
        "    plt.imshow(img_to_draw)\n",
        "\n",
        "    if len(iou) > i :\n",
        "      color = \"black\"\n",
        "      if (iou[i][0] < iou_threshold):\n",
        "        color = \"red\"\n",
        "      ax.text(0.2, -0.3, \"iou: %s\" %(iou[i][0]), color=color, transform=ax.transAxes)"
      ],
      "metadata": {
        "id": "Ojfle5O4vGkA"
      },
      "execution_count": 12,
      "outputs": []
    },
    {
      "cell_type": "code",
      "source": [
        "# utility to display training and validation curves\n",
        "def plot_metrics(metric_name, title, ylim=5):\n",
        "    plt.title(title)\n",
        "    plt.ylim(0,ylim)\n",
        "    plt.plot(history.history[metric_name],color='blue',label=metric_name)\n",
        "    plt.plot(history.history['val_' + metric_name],color='green',label='val_' + metric_name)"
      ],
      "metadata": {
        "id": "hgEf-86Avu4i"
      },
      "execution_count": 13,
      "outputs": []
    },
    {
      "cell_type": "code",
      "source": [],
      "metadata": {
        "id": "qGhTGQ_Mzmsv"
      },
      "execution_count": null,
      "outputs": []
    }
  ]
}